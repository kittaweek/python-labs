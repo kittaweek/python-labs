{
 "cells": [
  {
   "cell_type": "code",
   "execution_count": 19,
   "id": "650ae790-2545-4188-89fa-647c78fd64a5",
   "metadata": {},
   "outputs": [
    {
     "data": {
      "text/html": [
       "\n",
       "                <script type=\"application/javascript\" id=\"jupyter_black\">\n",
       "                (function() {\n",
       "                    if (window.IPython === undefined) {\n",
       "                        return\n",
       "                    }\n",
       "                    var msg = \"WARNING: it looks like you might have loaded \" +\n",
       "                        \"jupyter_black in a non-lab notebook with \" +\n",
       "                        \"`is_lab=True`. Please double check, and if \" +\n",
       "                        \"loading with `%load_ext` please review the README!\"\n",
       "                    console.log(msg)\n",
       "                    alert(msg)\n",
       "                })()\n",
       "                </script>\n",
       "                "
      ],
      "text/plain": [
       "<IPython.core.display.HTML object>"
      ]
     },
     "metadata": {},
     "output_type": "display_data"
    }
   ],
   "source": [
    "%load_ext jupyter_black"
   ]
  },
  {
   "cell_type": "code",
   "execution_count": 125,
   "id": "9df582d9-5093-4724-ba38-b7f8b67d5d20",
   "metadata": {},
   "outputs": [],
   "source": [
    "import sys\n",
    "import os\n",
    "\n",
    "from pyspark.sql import SparkSession\n",
    "import pyspark.sql.functions as F\n",
    "from pyspark.sql.functions import col, lit, when\n",
    "from pyspark.sql.window import Window\n",
    "from pyspark.sql.types import TimestampType, DateType, FloatType, StringType\n",
    "\n",
    "spark = (\n",
    "    SparkSession.builder.config(\"spark.executor.memory\", \"16g\")\n",
    "    .config(\"spark.driver.memory\", \"16g\")\n",
    "    .getOrCreate()\n",
    ")\n",
    "spark.conf.set(\"spark.sql.session.timeZone\", \"UTC\")"
   ]
  },
  {
   "cell_type": "markdown",
   "id": "378a54da-2ac6-4330-b045-5a28a84a959d",
   "metadata": {},
   "source": [
    "### Import & Prep Data"
   ]
  },
  {
   "cell_type": "code",
   "execution_count": 89,
   "id": "ff3965b4-a19b-4767-8961-c2eb3eea727d",
   "metadata": {},
   "outputs": [],
   "source": [
    "df = (\n",
    "    spark.read.option(\"recursiveFileLookup\", \"true\")\n",
    "    .option(\"header\", \"true\")\n",
    "    .json(\"resources/raws/time_series\")\n",
    ")"
   ]
  },
  {
   "cell_type": "code",
   "execution_count": 90,
   "id": "2b3c027a-c6d8-433a-8fc6-f2a3e7389cdb",
   "metadata": {},
   "outputs": [],
   "source": [
    "format = \"yyyy-MM-dd HH:mm:ss\"\n",
    "df = (\n",
    "    df.withColumn(\"symbol\", col(\"symbol\").cast(StringType()))\n",
    "    .withColumn(\n",
    "        \"datetime\", F.unix_timestamp(col(\"datetime\"), format).cast(TimestampType())\n",
    "    )\n",
    "    .withColumn(\"open\", col(\"open\").cast(FloatType()))\n",
    "    .withColumn(\"close\", col(\"close\").cast(FloatType()))\n",
    "    .withColumn(\"high\", col(\"high\").cast(FloatType()))\n",
    "    .withColumn(\"low\", col(\"low\").cast(FloatType()))\n",
    ")"
   ]
  },
  {
   "cell_type": "markdown",
   "id": "6784a76a-e275-49db-8196-7285649b9cbe",
   "metadata": {},
   "source": [
    "### Group By Symbol"
   ]
  },
  {
   "cell_type": "code",
   "execution_count": 129,
   "id": "b0f5d268-b89c-4cf9-a37a-5c9befaf80c0",
   "metadata": {},
   "outputs": [
    {
     "name": "stdout",
     "output_type": "stream",
     "text": [
      "USD_JPY\n",
      "XAU_USD\n",
      "GBP_USD\n",
      "EUR_USD\n"
     ]
    }
   ],
   "source": [
    "symbol_list = df.groupBy(col(\"symbol\")).count().collect()\n",
    "df_dict = {}\n",
    "for i in symbol_list:\n",
    "    symbol = i[\"symbol\"]\n",
    "    symbol_name = symbol.replace(\"/\", \"_\")\n",
    "    print(symbol_name)\n",
    "    df_dict[symbol_name] = df.filter(col(\"symbol\") == symbol)\n",
    "    # .sort(\n",
    "    #     \"datetime\", ascending=False\n",
    "    # )\n",
    "    # print(f\"{symbol_name} : {df_dict[symbol_name].count()}\")\n",
    "    # print(df_dict[symbol_name].show())"
   ]
  },
  {
   "cell_type": "code",
   "execution_count": 130,
   "id": "6a6166d7-35e6-4f8f-8707-60e5a68996c2",
   "metadata": {},
   "outputs": [],
   "source": [
    "# print(df.groupBy(col(\"symbol\")).count().show())\n",
    "# print(df.count())\n",
    "# print(df.printSchema())\n",
    "# print(df.show())"
   ]
  },
  {
   "cell_type": "markdown",
   "id": "503f5344-81bf-40d1-818d-16ac3242610c",
   "metadata": {},
   "source": [
    "### Group By Timeframe"
   ]
  },
  {
   "cell_type": "code",
   "execution_count": 131,
   "id": "dfce03ae-493c-46ef-b2c4-3db1a9f2dadc",
   "metadata": {},
   "outputs": [],
   "source": [
    "timeframe = [\n",
    "    # '1 minutes',\n",
    "    \"5 minutes\",\n",
    "    \"15 minutes\",\n",
    "    \"30 minutes\",\n",
    "    \"1 hour\",\n",
    "    \"4 hours\",\n",
    "    \"1 day\",\n",
    "    # \"1week\",\n",
    "    # \"1month\",\n",
    "]"
   ]
  },
  {
   "cell_type": "code",
   "execution_count": 144,
   "id": "4e82ac34-b1df-49dc-b96d-2a2731e306d6",
   "metadata": {},
   "outputs": [
    {
     "name": "stdout",
     "output_type": "stream",
     "text": [
      "+-------------------+-------+-------+-------+-------+\n",
      "|           datetime|   open|  close|   high|    low|\n",
      "+-------------------+-------+-------+-------+-------+\n",
      "|2023-11-21 19:30:00|148.285|148.255|  148.3| 148.25|\n",
      "|2023-11-21 19:00:00|148.305|148.285| 148.34| 148.24|\n",
      "|2023-11-21 18:30:00| 148.28|148.295| 148.36| 148.22|\n",
      "|2023-11-21 18:00:00| 148.25|148.275| 148.34| 148.05|\n",
      "|2023-11-21 17:30:00|148.265|148.235| 148.31| 148.12|\n",
      "|2023-11-21 17:00:00| 148.13| 148.27| 148.28|148.085|\n",
      "|2023-11-21 16:30:00|148.095| 148.15| 148.18|148.085|\n",
      "|2023-11-21 16:00:00| 148.26| 148.09| 148.28| 148.02|\n",
      "|2023-11-21 15:30:00| 148.31| 148.25|148.315| 148.25|\n",
      "|2023-11-21 15:00:00|148.395| 148.31|148.405|148.285|\n",
      "|2023-11-21 14:30:00|148.375|  148.4| 148.41| 148.34|\n",
      "|2023-11-21 14:00:00| 148.38| 148.37|148.425|148.335|\n",
      "|2023-11-21 13:30:00|148.305|  148.4| 148.44| 148.28|\n",
      "|2023-11-21 13:00:00| 148.32|148.305|148.385|  148.3|\n",
      "|2023-11-21 12:30:00|148.345|148.325|148.455| 148.31|\n",
      "|2023-11-21 12:00:00| 148.36|148.345|148.595|148.245|\n",
      "|2023-11-21 11:30:00|148.265| 148.36|148.395| 148.25|\n",
      "|2023-11-21 11:00:00|147.965|148.265| 148.28|147.955|\n",
      "|2023-11-21 10:30:00|147.945| 147.97|147.975| 147.88|\n",
      "|2023-11-21 10:00:00| 147.88|147.945|  148.0| 147.88|\n",
      "+-------------------+-------+-------+-------+-------+\n",
      "only showing top 20 rows\n",
      "\n"
     ]
    }
   ],
   "source": [
    "seconds = 60 * 5\n",
    "(\n",
    "    df_dict[\"USD_JPY\"]\n",
    "    # .withColumn(\"group_window\", seconds_window)\n",
    "    # .groupBy(F.window(col(\"datetime\"), \"4 hour\"))\n",
    "    .groupBy(F.window(col(\"datetime\"), \"30 minute\"))\n",
    "    .agg(\n",
    "        col(\"window.start\").alias(\"datetime\"),\n",
    "        # col(\"window.end\").alias(\"datetime_end\"),\n",
    "        F.last(\"open\").alias(\"open\"),\n",
    "        F.first(\"close\").alias(\"close\"),\n",
    "        F.max(\"high\").alias(\"high\"),\n",
    "        F.min(\"low\").alias(\"low\"),\n",
    "    )\n",
    "    .sort(\"datetime\", ascending=False)\n",
    "    .drop(\"window\")\n",
    "    .show()\n",
    ")"
   ]
  },
  {
   "cell_type": "code",
   "execution_count": 94,
   "id": "97ceaa62-0def-43ad-8e4b-af7479392a17",
   "metadata": {},
   "outputs": [
    {
     "name": "stdout",
     "output_type": "stream",
     "text": [
      "+-------+-------------------+-------+-------+-------+-------+\n",
      "|  close|           datetime|   high|    low|   open| symbol|\n",
      "+-------+-------------------+-------+-------+-------+-------+\n",
      "|148.255|2023-11-22 02:38:00|148.275| 148.25|148.265|USD/JPY|\n",
      "|148.275|2023-11-22 02:37:00| 148.28| 148.25| 148.26|USD/JPY|\n",
      "|148.275|2023-11-22 02:36:00|148.285| 148.26| 148.28|USD/JPY|\n",
      "|148.275|2023-11-22 02:35:00|148.275|148.275|148.275|USD/JPY|\n",
      "|148.275|2023-11-22 02:34:00|148.285| 148.27|148.285|USD/JPY|\n",
      "|148.285|2023-11-22 02:33:00|148.285| 148.26| 148.28|USD/JPY|\n",
      "| 148.28|2023-11-22 02:32:00|148.295| 148.26| 148.29|USD/JPY|\n",
      "|148.285|2023-11-22 02:31:00|148.295| 148.28|148.295|USD/JPY|\n",
      "|148.295|2023-11-22 02:30:00|  148.3|148.285|148.285|USD/JPY|\n",
      "|148.285|2023-11-22 02:29:00|148.305| 148.28|148.305|USD/JPY|\n",
      "|148.305|2023-11-22 02:28:00|148.305|148.305|148.305|USD/JPY|\n",
      "| 148.31|2023-11-22 02:27:00| 148.31| 148.31| 148.31|USD/JPY|\n",
      "|148.305|2023-11-22 02:26:00|148.305|148.305|148.305|USD/JPY|\n",
      "|148.305|2023-11-22 02:25:00|148.315|148.295|148.295|USD/JPY|\n",
      "|148.295|2023-11-22 02:24:00|148.305|148.295|148.305|USD/JPY|\n",
      "|148.305|2023-11-22 02:23:00| 148.31|148.295|148.295|USD/JPY|\n",
      "| 148.29|2023-11-22 02:22:00|148.315| 148.28|148.295|USD/JPY|\n",
      "|148.295|2023-11-22 02:21:00|  148.3|148.275|148.275|USD/JPY|\n",
      "|148.275|2023-11-22 02:20:00|148.285|148.265|148.265|USD/JPY|\n",
      "|148.255|2023-11-22 02:19:00| 148.26|148.245| 148.26|USD/JPY|\n",
      "+-------+-------------------+-------+-------+-------+-------+\n",
      "only showing top 20 rows\n",
      "\n"
     ]
    }
   ],
   "source": [
    "df_dict[\"USD_JPY\"].show()"
   ]
  },
  {
   "cell_type": "code",
   "execution_count": null,
   "id": "91a9b6c6-2c00-482d-9c19-29945a177084",
   "metadata": {},
   "outputs": [],
   "source": []
  }
 ],
 "metadata": {
  "kernelspec": {
   "display_name": "Python 3 (ipykernel)",
   "language": "python",
   "name": "python3"
  },
  "language_info": {
   "codemirror_mode": {
    "name": "ipython",
    "version": 3
   },
   "file_extension": ".py",
   "mimetype": "text/x-python",
   "name": "python",
   "nbconvert_exporter": "python",
   "pygments_lexer": "ipython3",
   "version": "3.11.4"
  }
 },
 "nbformat": 4,
 "nbformat_minor": 5
}
